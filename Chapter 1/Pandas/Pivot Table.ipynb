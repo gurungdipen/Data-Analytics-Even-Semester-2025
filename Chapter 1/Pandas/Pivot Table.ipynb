{
 "cells": [
  {
   "cell_type": "code",
   "execution_count": 1,
   "id": "d3ceac26-0184-44d0-b7bf-673863c662ba",
   "metadata": {},
   "outputs": [],
   "source": [
    "import pandas as pd"
   ]
  },
  {
   "cell_type": "code",
   "execution_count": 2,
   "id": "7ee92eff-f9b8-4b94-afdc-4ea4e1029e9c",
   "metadata": {},
   "outputs": [],
   "source": [
    "# Sample Data\n",
    "data = {\n",
    "    'Department': ['Sales', 'Sales', 'HR', 'HR', 'IT', 'IT'],\n",
    "    'Employee': ['Alice', 'Bob', 'Charlie', 'David', 'Eva', 'Frank'],\n",
    "    'Salary': [50000, 60000, 45000, 47000, 70000, 72000],\n",
    "    'Experience': [2, 5, 3, 4, 6, 7]\n",
    "}"
   ]
  },
  {
   "cell_type": "code",
   "execution_count": 3,
   "id": "5277cd11-678f-493a-9778-098c3bda8f16",
   "metadata": {},
   "outputs": [
    {
     "name": "stdout",
     "output_type": "stream",
     "text": [
      "  Department Employee  Salary  Experience\n",
      "0      Sales    Alice   50000           2\n",
      "1      Sales      Bob   60000           5\n",
      "2         HR  Charlie   45000           3\n",
      "3         HR    David   47000           4\n",
      "4         IT      Eva   70000           6\n",
      "5         IT    Frank   72000           7\n"
     ]
    }
   ],
   "source": [
    "df = pd.DataFrame(data)\n",
    "print(df)"
   ]
  },
  {
   "cell_type": "code",
   "execution_count": 4,
   "id": "a1091b71-d83d-4189-a487-cb501511421a",
   "metadata": {},
   "outputs": [
    {
     "name": "stdout",
     "output_type": "stream",
     "text": [
      "             Salary\n",
      "Department         \n",
      "HR          46000.0\n",
      "IT          71000.0\n",
      "Sales       55000.0\n"
     ]
    }
   ],
   "source": [
    "# Create a pivot table\n",
    "pivot = df.pivot_table(values='Salary', index='Department', aggfunc='mean')\n",
    "\n",
    "print(pivot)"
   ]
  },
  {
   "cell_type": "code",
   "execution_count": 5,
   "id": "de4a5e16-5621-40af-9899-1027a0e5d03d",
   "metadata": {},
   "outputs": [
    {
     "name": "stdout",
     "output_type": "stream",
     "text": [
      "                 mean                 sum        \n",
      "           Experience   Salary Experience  Salary\n",
      "Department                                       \n",
      "HR                3.5  46000.0          7   92000\n",
      "IT                6.5  71000.0         13  142000\n",
      "Sales             3.5  55000.0          7  110000\n"
     ]
    }
   ],
   "source": [
    "#Pivot table with multiple aggregations\n",
    "pivot = df.pivot_table(values=['Salary', 'Experience'], index='Department', aggfunc=['mean', 'sum'])\n",
    "print(pivot)"
   ]
  },
  {
   "cell_type": "code",
   "execution_count": 6,
   "id": "6f6d9207-9f0f-4f9a-a6ce-b4457283d49a",
   "metadata": {},
   "outputs": [
    {
     "name": "stdout",
     "output_type": "stream",
     "text": [
      "                     Salary\n",
      "Department Employee        \n",
      "HR         Charlie    45000\n",
      "           David      47000\n",
      "IT         Eva        70000\n",
      "           Frank      72000\n",
      "Sales      Alice      50000\n",
      "           Bob        60000\n"
     ]
    }
   ],
   "source": [
    "# Pivot table with multiple index\n",
    "pivot = df.pivot_table(values='Salary', index=['Department', 'Employee'], aggfunc='sum')\n",
    "print(pivot)"
   ]
  },
  {
   "cell_type": "code",
   "execution_count": 7,
   "id": "4d9c1adc-83ec-450b-8e53-a164e6599035",
   "metadata": {},
   "outputs": [
    {
     "name": "stdout",
     "output_type": "stream",
     "text": [
      "Experience      2      3      4      5      6      7\n",
      "Department                                          \n",
      "HR              0  45000  47000      0      0      0\n",
      "IT              0      0      0      0  70000  72000\n",
      "Sales       50000      0      0  60000      0      0\n"
     ]
    }
   ],
   "source": [
    "# Pivot table with columns parameter\n",
    "pivot = df.pivot_table(values='Salary', index='Department', columns='Experience', aggfunc='sum', fill_value=0)\n",
    "\n",
    "print(pivot)"
   ]
  },
  {
   "cell_type": "code",
   "execution_count": null,
   "id": "42824d0e-e4a3-4b92-b2f3-c029b9641210",
   "metadata": {},
   "outputs": [],
   "source": []
  }
 ],
 "metadata": {
  "kernelspec": {
   "display_name": "Python 3 (ipykernel)",
   "language": "python",
   "name": "python3"
  },
  "language_info": {
   "codemirror_mode": {
    "name": "ipython",
    "version": 3
   },
   "file_extension": ".py",
   "mimetype": "text/x-python",
   "name": "python",
   "nbconvert_exporter": "python",
   "pygments_lexer": "ipython3",
   "version": "3.12.7"
  }
 },
 "nbformat": 4,
 "nbformat_minor": 5
}
